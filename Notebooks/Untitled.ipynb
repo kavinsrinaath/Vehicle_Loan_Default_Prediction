{
 "cells": [
  {
   "cell_type": "code",
   "execution_count": 57,
   "metadata": {},
   "outputs": [],
   "source": [
    "import requests\n",
    "import numpy as np\n",
    "np.set_printoptions(suppress=True)"
   ]
  },
  {
   "cell_type": "code",
   "execution_count": 64,
   "metadata": {},
   "outputs": [],
   "source": [
    "to_predict_dict = {\n",
    "    \n",
    "    \"disbursed_amount\" : 3769,\n",
    "    \"asset_cost\" : 65393,\n",
    "    \"ltv\" : 61.17,\n",
    "    \"branch_id\" : 103,\n",
    "    \"supplier_id\" : 24365,\n",
    "    \"manufacturer_id\" : 45,\n",
    "    \"Current_pincode_ID\" : 7019,\n",
    "    \"Employment_Type\" : 1,\n",
    "    \"State_ID\" : 7,\n",
    "    \"Employee_code_ID\" : 3185,\n",
    "    \"PERFORM_CNS_SCORE\" : 0,\n",
    "    \"PERFORM_CNS_SCORE_DESCRIPTION\" : 0,\n",
    "    \"NEW_ACCTS_IN_LAST_SIX_MONTHS\" : 0,\n",
    "    \"DELINQUENT_ACCTS_IN_LAST_SIX_MONTHS\" : 0,\n",
    "    \"AVERAGE_ACCT_AGE\" : 0.0,\n",
    "    \"CREDIT_HISTORY_LENGTH\" : 0.0,\n",
    "    \"NO_OF_INQUIRIES\" : 2,\n",
    "    \"Age\" : 45.8,\n",
    "    \"Age_of_Loan\" : 2.6,\n",
    "    \"No_of_Proofs\" : 2,\n",
    "    \"Total_ACCTS\" : 0,\n",
    "    \"Total_Active_ACCTS\" : 0,\n",
    "    \"Total_Overdue_ACCTS\" : 0,\n",
    "    \"Total_CurrentBalance\" : 0,\n",
    "    \"Total_SanctionedAmount\" : 0,\n",
    "    \"Total_DisbursedAmount\" : 0,\n",
    "    \"Total_InstalAmount\" : 0\n",
    "    \n",
    "}"
   ]
  },
  {
   "cell_type": "code",
   "execution_count": 67,
   "metadata": {},
   "outputs": [
    {
     "name": "stdout",
     "output_type": "stream",
     "text": [
      "<Response [200]>\n"
     ]
    }
   ],
   "source": [
    "url = 'http://127.0.0.1:8000/predict'\n",
    "r = requests.post(url,json=to_predict_dict)\n",
    "print(r)"
   ]
  },
  {
   "cell_type": "code",
   "execution_count": 68,
   "metadata": {},
   "outputs": [],
   "source": [
    "k = [\n",
    "   3769,\n",
    "   65393,\n",
    "   61.17,\n",
    "   103,\n",
    "   24365,\n",
    "   45,\n",
    "   7019,\n",
    "   1,\n",
    "   7,\n",
    "   3185,\n",
    "   0,\n",
    "   0,\n",
    "   0,\n",
    "   0,\n",
    "   0,\n",
    "   0,\n",
    "   2,\n",
    "   45.8,\n",
    "   2.6,\n",
    "   2,\n",
    "   0,\n",
    "   0,\n",
    "   0,\n",
    "   0,\n",
    "   0,\n",
    "   0,\n",
    "   0\n",
    "]"
   ]
  },
  {
   "cell_type": "code",
   "execution_count": 69,
   "metadata": {},
   "outputs": [],
   "source": [
    "k = np.array(k)\n",
    "val = gbc_model.predict(k.reshape(1,-1))\n",
    "#os_X_test.iloc[0]"
   ]
  },
  {
   "cell_type": "code",
   "execution_count": 70,
   "metadata": {},
   "outputs": [
    {
     "data": {
      "text/plain": [
       "array([[3.7690e+03],\n",
       "       [6.5393e+04],\n",
       "       [6.1170e+01],\n",
       "       [1.0300e+02],\n",
       "       [2.4365e+04],\n",
       "       [4.5000e+01],\n",
       "       [7.0190e+03],\n",
       "       [1.0000e+00],\n",
       "       [7.0000e+00],\n",
       "       [3.1850e+03],\n",
       "       [0.0000e+00],\n",
       "       [0.0000e+00],\n",
       "       [0.0000e+00],\n",
       "       [0.0000e+00],\n",
       "       [0.0000e+00],\n",
       "       [0.0000e+00],\n",
       "       [2.0000e+00],\n",
       "       [4.5800e+01],\n",
       "       [2.6000e+00],\n",
       "       [2.0000e+00],\n",
       "       [0.0000e+00],\n",
       "       [0.0000e+00],\n",
       "       [0.0000e+00],\n",
       "       [0.0000e+00],\n",
       "       [0.0000e+00],\n",
       "       [0.0000e+00],\n",
       "       [0.0000e+00]])"
      ]
     },
     "execution_count": 70,
     "metadata": {},
     "output_type": "execute_result"
    }
   ],
   "source": [
    "if val[0]==0:\n",
    "    c = {\"prediction\":\"The loan applicant will default on 1st EMI payment\"}\n",
    "else:\n",
    "    c = {\"prediction\":\"The loan applicant will pay the 1st EMI\"}\n",
    "\n",
    "c"
   ]
  },
  {
   "cell_type": "code",
   "execution_count": 71,
   "metadata": {},
   "outputs": [
    {
     "data": {
      "text/plain": [
       "array([3.7690e+03, 6.5393e+04, 6.1170e+01, 1.0300e+02, 2.4365e+04,\n",
       "       4.5000e+01, 7.0190e+03, 1.0000e+00, 7.0000e+00, 3.1850e+03,\n",
       "       0.0000e+00, 0.0000e+00, 0.0000e+00, 0.0000e+00, 0.0000e+00,\n",
       "       0.0000e+00, 2.0000e+00, 4.5800e+01, 2.6000e+00, 2.0000e+00,\n",
       "       0.0000e+00, 0.0000e+00, 0.0000e+00, 0.0000e+00, 0.0000e+00,\n",
       "       0.0000e+00, 0.0000e+00])"
      ]
     },
     "execution_count": 71,
     "metadata": {},
     "output_type": "execute_result"
    }
   ],
   "source": [
    "k"
   ]
  },
  {
   "cell_type": "code",
   "execution_count": null,
   "metadata": {},
   "outputs": [],
   "source": []
  }
 ],
 "metadata": {
  "kernelspec": {
   "display_name": "Python 3",
   "language": "python",
   "name": "python3"
  },
  "language_info": {
   "codemirror_mode": {
    "name": "ipython",
    "version": 3
   },
   "file_extension": ".py",
   "mimetype": "text/x-python",
   "name": "python",
   "nbconvert_exporter": "python",
   "pygments_lexer": "ipython3",
   "version": "3.7.6"
  }
 },
 "nbformat": 4,
 "nbformat_minor": 4
}
