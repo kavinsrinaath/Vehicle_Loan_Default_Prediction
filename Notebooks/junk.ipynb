{
 "cells": [
  {
   "cell_type": "markdown",
   "metadata": {},
   "source": [
    "# Vehicle loan default predection"
   ]
  },
  {
   "cell_type": "markdown",
   "metadata": {},
   "source": [
    "Importing necessary libs and custom functions"
   ]
  },
  {
   "cell_type": "code",
   "execution_count": null,
   "metadata": {},
   "outputs": [],
   "source": [
    "import pandas as pd\n",
    "import seaborn as sns\n",
    "import matplotlib.pyplot as plt\n",
    "import plotly.express as px\n",
    "from IPython.display import Image\n",
    "\n",
    "#importing custom functions from functions.py file\n",
    "from functions import dateconvert\n",
    "from functions import yrscalc"
   ]
  },
  {
   "cell_type": "code",
   "execution_count": null,
   "metadata": {},
   "outputs": [],
   "source": [
    "df = pd.read_csv(r'../Data/train.csv')"
   ]
  },
  {
   "cell_type": "code",
   "execution_count": null,
   "metadata": {},
   "outputs": [],
   "source": [
    "df = df.head(1000)\n",
    "df.head()"
   ]
  },
  {
   "cell_type": "code",
   "execution_count": null,
   "metadata": {
    "scrolled": false
   },
   "outputs": [],
   "source": [
    "#cleaning\n",
    "df['Date.of.Birth'] = df['Date.of.Birth'].apply(dateconvert,delim='-')\n",
    "df['Date.of.Birth'] = pd.to_datetime(df['Date.of.Birth'])\n",
    "df['DisbursalDate'] = df['DisbursalDate'].apply(dateconvert,delim='-')\n",
    "df['DisbursalDate'] = pd.to_datetime(df['DisbursalDate'])\n",
    "df['Employment.Type'].fillna('Unknown',inplace=True)\n",
    "df.head()"
   ]
  },
  {
   "cell_type": "code",
   "execution_count": null,
   "metadata": {},
   "outputs": [],
   "source": [
    "#Code for label\n",
    "df['labels'] = df['loan_default'].apply(lambda x:'Paid' if x==0 else \"default\")"
   ]
  },
  {
   "cell_type": "code",
   "execution_count": null,
   "metadata": {},
   "outputs": [],
   "source": [
    "#imbalanced data\n",
    "fig = px.pie(df, names='labels')\n",
    "fig.show()"
   ]
  },
  {
   "cell_type": "code",
   "execution_count": null,
   "metadata": {},
   "outputs": [],
   "source": [
    "#Plot to be for non dynamic notebook render\n",
    "fig.write_image(r\"fig1.png\")\n",
    "img_bytes = fig.to_image(format=\"png\")\n",
    "Image(img_bytes)"
   ]
  },
  {
   "cell_type": "code",
   "execution_count": null,
   "metadata": {},
   "outputs": [],
   "source": [
    "#Feature engineering\n",
    "emp_type = {'Unknown':0,'Self employed':1,'Salaried':2}\n",
    "\n",
    "cns_desc = {'No Bureau History Available':0,\n",
    "            'Not Scored: Sufficient History Not Available':0,\n",
    "            'Not Scored: Not Enough Info available on the customer':0,\n",
    "           'Not Scored: No Activity seen on the customer (Inactive)':0,\n",
    "           'Not Scored: No Updates available in last 36 months':0,\n",
    "           'Not Scored: Only a Guarantor':1,\n",
    "           'Not Scored: More than 50 active Accounts found':1,\n",
    "           'M-Very High Risk':2,\n",
    "           'L-Very High Risk':3,\n",
    "           'K-High Risk':4,\n",
    "            'J-High Risk':5,\n",
    "            'H-Medium Risk':6,\n",
    "            'I-Medium Risk':7,\n",
    "            'F-Low Risk':8,\n",
    "            'E-Low Risk':9,\n",
    "            'G-Low Risk':10,\n",
    "            'C-Very Low Risk':11,\n",
    "            'A-Very Low Risk':12,\n",
    "            'D-Very Low Risk':13,\n",
    "            'B-Very Low Risk':14\n",
    "           }\n",
    "now = pd.Timestamp('now')\n",
    "df['Age'] = (now - df['Date.of.Birth']).astype('<m8[Y]').astype(float)\n",
    "df['AVERAGE.ACCT.AGE'] = df['AVERAGE.ACCT.AGE'].apply(yrscalc)\n",
    "df['CREDIT.HISTORY.LENGTH'] = df['CREDIT.HISTORY.LENGTH'].apply(yrscalc)\n",
    "df['Age.of.Loan'] = (now - df['DisbursalDate']).astype('<m8[Y]').astype(float)\n",
    "#combaining to sum of ids\n"
   ]
  },
  {
   "cell_type": "code",
   "execution_count": null,
   "metadata": {},
   "outputs": [],
   "source": [
    "df['Age.of.Loan'] = (now - df['DisbursalDate']).astype('<m8[Y]').astype(float)"
   ]
  },
  {
   "cell_type": "code",
   "execution_count": null,
   "metadata": {},
   "outputs": [],
   "source": [
    "df['PERFORM_CNS.SCORE.DESCRIPTION'] = df['PERFORM_CNS.SCORE.DESCRIPTION'].map(cns_desc)\n",
    "df['Employment.Type'] = df['Employment.Type'].map(emp_type)"
   ]
  },
  {
   "cell_type": "code",
   "execution_count": null,
   "metadata": {},
   "outputs": [],
   "source": [
    "#df['No.of.ids'] = sum(df[['Aadhar_flag', 'PAN_flag', 'VoterID_flag', 'Driving_flag','Passport_flag']])\n",
    "X_train = df.drop(columns=['loan_default','labels'])"
   ]
  },
  {
   "cell_type": "code",
   "execution_count": null,
   "metadata": {},
   "outputs": [],
   "source": [
    "corrmat = df.corr()\n",
    "top_corr_features = corrmat.index\n",
    "plt.figure(figsize=(20,20))\n",
    "#plot heat map\n",
    "g=sns.heatmap(df[top_corr_features].corr(),annot=True,cmap=\"RdYlGn\")"
   ]
  },
  {
   "cell_type": "code",
   "execution_count": null,
   "metadata": {},
   "outputs": [],
   "source": [
    "df.info()"
   ]
  },
  {
   "cell_type": "code",
   "execution_count": null,
   "metadata": {},
   "outputs": [],
   "source": [
    "df['PERFORM_CNS.SCORE.DESCRIPTION'].value_counts()"
   ]
  },
  {
   "cell_type": "code",
   "execution_count": null,
   "metadata": {},
   "outputs": [],
   "source": [
    "df[['DisbursalDate','Age.of.Loan']]"
   ]
  },
  {
   "cell_type": "code",
   "execution_count": null,
   "metadata": {},
   "outputs": [],
   "source": [
    "now - df['DisbursalDate'][0]"
   ]
  },
  {
   "cell_type": "code",
   "execution_count": null,
   "metadata": {},
   "outputs": [],
   "source": [
    "from dateutil.relativedelta import relativedelta\n",
    "\n",
    "def yearsago(years, from_date=None):\n",
    "    if from_date is None:\n",
    "        from_date = pd.Timestamp('now')\n",
    "    return from_date - relativedelta(years=years)"
   ]
  },
  {
   "cell_type": "code",
   "execution_count": null,
   "metadata": {},
   "outputs": [],
   "source": [
    "relativedelta(now, df['DisbursalDate'][0]).days"
   ]
  },
  {
   "cell_type": "code",
   "execution_count": null,
   "metadata": {},
   "outputs": [],
   "source": [
    "import pendulum"
   ]
  },
  {
   "cell_type": "code",
   "execution_count": 4,
   "metadata": {},
   "outputs": [],
   "source": [
    "import pendulum\n",
    "\n",
    "it = pendulum.duration(days=729)"
   ]
  },
  {
   "cell_type": "code",
   "execution_count": 6,
   "metadata": {},
   "outputs": [
    {
     "data": {
      "text/plain": [
       "0"
      ]
     },
     "execution_count": 6,
     "metadata": {},
     "output_type": "execute_result"
    }
   ],
   "source": [
    "it.months"
   ]
  },
  {
   "cell_type": "code",
   "execution_count": null,
   "metadata": {},
   "outputs": [],
   "source": []
  }
 ],
 "metadata": {
  "kernelspec": {
   "display_name": "Python 3",
   "language": "python",
   "name": "python3"
  },
  "language_info": {
   "codemirror_mode": {
    "name": "ipython",
    "version": 3
   },
   "file_extension": ".py",
   "mimetype": "text/x-python",
   "name": "python",
   "nbconvert_exporter": "python",
   "pygments_lexer": "ipython3",
   "version": "3.7.6"
  }
 },
 "nbformat": 4,
 "nbformat_minor": 2
}
